{
 "nbformat": 4,
 "nbformat_minor": 2,
 "metadata": {
  "language_info": {
   "name": "python",
   "codemirror_mode": {
    "name": "ipython",
    "version": 3
   },
   "version": "3.7.4-final"
  },
  "orig_nbformat": 2,
  "file_extension": ".py",
  "mimetype": "text/x-python",
  "name": "python",
  "npconvert_exporter": "python",
  "pygments_lexer": "ipython3",
  "version": 3,
  "kernelspec": {
   "name": "python37464bitbaseconda7bd86e2db0154410ae38b2cb309c91ba",
   "display_name": "Python 3.7.4 64-bit ('base': conda)"
  }
 },
 "cells": [
  {
   "cell_type": "code",
   "execution_count": 5,
   "metadata": {},
   "outputs": [],
   "source": [
    "# import necessary libraries\n",
    "import pandas as pd\n",
    "import scipy\n",
    "import matplotlib as p\n",
    "p.use(\"TkAgg\")\n",
    "import matplotlib.pyplot as plt"
   ]
  },
  {
   "cell_type": "code",
   "execution_count": 6,
   "metadata": {},
   "outputs": [],
   "source": [
    "#Read in csv file for calculations.\n",
    "df_train = pd.read_csv(\"./train.csv\")\n",
    "fig = plt.figure(figsize=(24,8))"
   ]
  },
  {
   "cell_type": "code",
   "execution_count": 7,
   "metadata": {},
   "outputs": [],
   "source": [
    "# Do calculations and build different charts and show inforgraphic.\n",
    "#Bar graph of percentage of who survived and who did not.\n",
    "plt.subplot2grid((3,3), (0,0))\n",
    "df_train.Sex[df_train.Survived == 1].value_counts(normalize=True).plot(kind=\"bar\", rot=0,alpha=0.5,color=[\"pink\",\"blue\"])\n",
    "plt.title(\"% of Survived wrt Sex\")\n",
    "\n",
    "# Comput averages for age by all passengers, all men, all women respectively. \n",
    "df_avg_age = df_train.Age.mean()\n",
    "men_avgage = df_train.loc[df_train.Sex == 'male', 'Age'].mean()\n",
    "fem_avgage = df_train.loc[df_train.Sex == 'female', 'Age'].mean()\n",
    "\n",
    "# Values for bar chart.\n",
    "#plt.subplot2grid((3,3), (0,1)\n",
    "\n",
    "# Generate bar graph. Set block to true when executing from script file. \n",
    "plt.subplot2grid((3,3), (0,1))\n",
    "x_values = [\"All\", \"Men\", \"Women\"]\n",
    "age_values = [df_avg_age, men_avgage, fem_avgage]\n",
    "plt.bar(x_values,age_values,width=0.5, color=[\"black\", \"blue\", \"pink\"])\n",
    "plt.title(\"Average Age by Gender\")\n",
    "\n",
    "#Scatter plot by age and survial\n",
    "plt.subplot2grid((3,3), (0,2))\n",
    "plt.scatter(df_train.Survived, df_train.Age, alpha=.1) \n",
    "plt.title(\"Scatter by age & survival\")\n",
    "\n",
    "# Survival count by Class\n",
    "#plt.subplot2grid((3,3),(1,0))\n",
    "#df_train.Pclass.value_counts().plot(kind=\"Bar\", alpha=1, color = [\"green\",\"blue\",\"orange\"])\n",
    "#plt.title(\"Passenger Count by Class\")\n",
    "\n",
    "# Plot survival with regards to age & class. \n",
    "plt.subplot2grid((3,3), (2,0), colspan=4)\n",
    "for x in [1,2,3]:\n",
    "\tdf_train.Survived[df_train.Pclass == x].plot(kind=\"kde\")\n",
    "plt.title(\"Survived in relation to Class\")\n",
    "plt.legend((\"1st\", \"2nd\", \"3rd\")) \n",
    "\n",
    "# Plot survival rate wrt to Class\n",
    "plt.subplot2grid((3,3),(1,1))\n",
    "df_train.Pclass[df_train.Survived == 1].value_counts(normalize=True).plot(kind='bar',alpha=1, color = ['blue','green','orange'])\n",
    "plt.title(\"Surival Rate wrt Class\")\n",
    "\n",
    "# Plot mortality rate wrt to Class\n",
    "plt.subplot2grid((3,3),(1,2))\n",
    "df_train.Pclass[df_train.Survived == 0].value_counts(normalize=True).plot(kind='bar',alpha=1, color = ['green','orange','blue'])\n",
    "plt.title(\"Mortality Rate wrt Class\")\n",
    "\n",
    "# Show infographic\n",
    "plt.show(block=True)"
   ]
  }
 ]
}